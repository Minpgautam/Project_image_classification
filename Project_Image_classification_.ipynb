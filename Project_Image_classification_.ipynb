{
 "cells": [
  {
   "cell_type": "markdown",
   "metadata": {},
   "source": [
    "### Get the Data\n",
    "Run the following cell to download the CIFAR-10 dataset for python\n",
    "`(https://www.cs.toronto.edu/~kriz/cifar-10-python.tar.gz)`.\n",
    "### Data\n",
    "CIFAR-10 is an established computer-vision dataset used for object recognition. It is a subset of the\n",
    "80 million tiny images dataset and consists of 60,000 32x32 color images containing one of 10\n",
    "object classes, with 6000 images per class. It was collected by Alex Krizhevsky, Vinod Nair, and\n",
    "Geoffrey Hinton."
   ]
  },
  {
   "cell_type": "code",
   "execution_count": 2,
   "metadata": {},
   "outputs": [],
   "source": [
    "# Import necessay library\n",
    "import numpy as np\n",
    "import pandas as pd\n",
    "import matplotlib.pyplot as plt\n",
    "%matplotlib inline\n",
    "import tensorflow as tf"
   ]
  },
  {
   "cell_type": "code",
   "execution_count": 6,
   "metadata": {},
   "outputs": [],
   "source": [
    "import pickle"
   ]
  },
  {
   "cell_type": "code",
   "execution_count": 3,
   "metadata": {},
   "outputs": [],
   "source": [
    "from urllib.request import urlretrieve\n",
    "from os.path import isfile, isdir\n",
    "from tqdm import tqdm\n",
    "import tarfile"
   ]
  },
  {
   "cell_type": "code",
   "execution_count": 5,
   "metadata": {},
   "outputs": [],
   "source": [
    "\n",
    "cifar10_dataset_folder_path = 'cifar-10-batches-py'\n",
    "class DLProgress(tqdm):\n",
    "    #download progress\n",
    "    last_block = 0\n",
    "    def hook(self, block_num=1, block_size=1, total_size=None):\n",
    "        self.total = total_size\n",
    "        self.update((block_num - self.last_block) * block_size)\n",
    "        self.last_block = block_num\n",
    "if not isfile('cifar-10-python.tar.gz'):\n",
    "    with DLProgress(unit='B', unit_scale=True, miniters=1, desc='CIFAR-10 Dataset') as pbar:\n",
    "        \n",
    "        urlretrieve('https://www.cs.toronto.edu/~kriz/cifar-10-python.tar.gz',\n",
    "                    'cifar-10-python.tar.gz',pbar.hook)\n",
    "if not isdir(cifar10_dataset_folder_path):\n",
    "    with tarfile.open('cifar-10-python.tar.gz') as tar:\n",
    "        tar.extractall()\n",
    "        tar.close()"
   ]
  },
  {
   "cell_type": "code",
   "execution_count": 9,
   "metadata": {},
   "outputs": [],
   "source": [
    "# names of the labels as mentioned in file and sites.\n",
    "def load_label_names():\n",
    "    # load the names from the files\n",
    "    return ['airplane','automobile','bird','cat','deer','dog','frog','horse','ship','truck']"
   ]
  },
  {
   "cell_type": "code",
   "execution_count": 10,
   "metadata": {},
   "outputs": [],
   "source": [
    "from sklearn.preprocessing import LabelBinarizer"
   ]
  },
  {
   "cell_type": "code",
   "execution_count": 20,
   "metadata": {},
   "outputs": [],
   "source": [
    "# load the batch of the dataset. The dataset is broken into batches to prevent running of memory.\n",
    "def load_cfar10_batch(cifar10_dataset_folder_path, batch_id):\n",
    "    \"\"\"\n",
    "    Load a batch of the dataset\n",
    "    \n",
    "    \"\"\"\n",
    "    with open(cifar10_dataset_folder_path + '/data_batch_' + str(batch_id), mode='rb') as file:\n",
    "              # Here encoding data type is latin1\n",
    "              batch = pickle.load(file, encoding='latin1')\n",
    "    features = batch['data'].reshape((len(batch['data']), 3, 32, 32)).transpose(0,2,3,1)\n",
    "    labels = batch['labels']\n",
    "    return features, labels\n"
   ]
  },
  {
   "cell_type": "code",
   "execution_count": 38,
   "metadata": {},
   "outputs": [],
   "source": [
    "\n",
    "def display_stats(cifar10_dataset_folder_path, batch_id, sample_id):\n",
    "    \n",
    "    \"\"\"\n",
    "     Display Stats of the the dataset\n",
    "    \"\"\"\n",
    "    batch_ids = list(range(1, 6))   # we've batch number from 0 to 5\n",
    "    \n",
    "    if batch_id not in batch_ids:\n",
    "        print('Batch Id out of Range. Possible Batch Ids: {}'.format(batch_ids))\n",
    "        return None\n",
    "    features, labels = load_cfar10_batch(cifar10_dataset_folder_path, batch_id)\n",
    "    if not (0 <= sample_id < len(features)):\n",
    "        print('{} samples in batch {}. {} is out of range.'.format(len(features),batch_id,\n",
    "                                                                   sample_id))\n",
    "        return None\n",
    "    print('\\nStats of batch {}:'.format(batch_id))\n",
    "    print('Samples: {}'.format(len(features)))\n",
    "    print('Label Counts: {}'.format(dict(zip(*np.unique(labels, return_counts=True)))))\n",
    "    print('First 20 Labels: {}'.format(labels[:20]))\n",
    "    # to make look look in print let do this\n",
    "    label_names=load_label_names()\n",
    "    label_counts=dict(zip(*np.unique(labels,return_counts=True)))\n",
    "    for key, value in label_counts.items():\n",
    "        print(\"Label Counts: [{}][ Label{}]  := {}\". format(key,label_names[key].upper(),value))\n",
    "    sample_image = features[sample_id]\n",
    "    sample_label = labels[sample_id]\n",
    "    label_names = load_label_names()\n",
    "    print('\\nExample of Image {}:'.format(sample_id))\n",
    "    print('Image - Min Value: {} Max Value: {}'.format(sample_image.min(), sample_image.max()))\n",
    "    print('Image - Shape: {}'.format(sample_image.shape))\n",
    "    print('Label - Label Id: {} Name: {}'.format(sample_label, label_names[sample_label]))\n",
    "    plt.axis('off')\n",
    "    plt.imshow(sample_image)"
   ]
  },
  {
   "cell_type": "markdown",
   "metadata": {},
   "source": [
    "You'll preprocess the images, then train a convolutional neural network on all the samples.\n",
    "The images need to be normalized and the labels need to be one-hot encoded. You'll get to apply\n",
    "what you learned and build a convolutional, max pooling, dropout, and fully connected layers."
   ]
  },
  {
   "cell_type": "code",
   "execution_count": 32,
   "metadata": {},
   "outputs": [],
   "source": [
    "# Normalize the image data\n",
    "def normalize(x):\n",
    "    # x is the input image array [rows,columns,RGB]\n",
    "    min_val=np.min(x)\n",
    "    max_val=np.max(x)\n",
    "    x=(x - min_val)/(max_val - min_val)\n",
    "    return x"
   ]
  },
  {
   "cell_type": "code",
   "execution_count": 33,
   "metadata": {},
   "outputs": [],
   "source": [
    "# labels also need to be one hot encoded\n",
    "from sklearn import preprocessing\n",
    "from sklearn.preprocessing import LabelBinarizer\n",
    "label_binarizer=preprocessing.LabelBinarizer()\n",
    "label_binarizer.fit(range(10))\n",
    "\n",
    "def one_hot_encode(x):\n",
    "    # x is the lists of labels which is encoded matrix to (no.of labels,no.of class)\n",
    "    return label_binarizer.transform(x)"
   ]
  },
  {
   "cell_type": "code",
   "execution_count": 34,
   "metadata": {},
   "outputs": [],
   "source": [
    "def _preprocess_and_save(normalize, one_hot_encode, features, labels, filename):\n",
    "    \n",
    "    \"\"\"\n",
    "     Preprocess data and save it to file\n",
    "    \"\"\"\n",
    "    features = normalize(features)\n",
    "    labels = one_hot_encode(labels)\n",
    "    pickle.dump((features, labels), open(filename, 'wb'))"
   ]
  },
  {
   "cell_type": "code",
   "execution_count": 54,
   "metadata": {},
   "outputs": [],
   "source": [
    "def preprocess_and_save_data(cifar10_dataset_folder_path, normalize, one_hot_encode):\n",
    "    \"\"\"\n",
    "       Preprocess Training and Validation Data\n",
    "    \"\"\"\n",
    "    n_batches = 5\n",
    "    valid_features = []\n",
    "    valid_labels = []\n",
    "    for batch_i in range(1, n_batches + 1):\n",
    "        features, labels = load_cfar10_batch(cifar10_dataset_folder_path, batch_i)\n",
    "        validation_count = int(len(features) * 0.1)   # 10% batch of whole dataset\n",
    "# Prprocess and save a batch of training data\n",
    "        _preprocess_and_save(normalize,one_hot_encode,features[:-validation_count],\n",
    "                     labels[:-validation_count],'preprocess_batch_' + str(batch_i) + '.p')\n",
    "         # here normalizing,onehotencoding,saving in new file named \"preprocess_batch\" +\n",
    "                                                                  #    \" batch number\"\n",
    "# Use a portion of training batch for validation\n",
    "        valid_features.extend(features[-validation_count:])\n",
    "        valid_labels.extend(labels[-validation_count:])\n",
    "# Preprocess and Save all validation data\n",
    "    _preprocess_and_save(normalize,\n",
    "                         one_hot_encode,\n",
    "                         np.array(valid_features),\n",
    "                         np.array(valid_labels),\n",
    "                         'preprocess_validation.p')\n",
    "    # loading the test dataset\n",
    "    with open(cifar10_dataset_folder_path + '/test_batch', mode='rb') as file:\n",
    "        \n",
    "        batch = pickle.load(file, encoding='latin1')\n",
    "# preprocess\n",
    "    test_features = batch['data'].reshape((len(batch['data']), 3, 32, 32)).transpose(0,2,3,1)\n",
    "    test_labels = batch['labels']\n",
    "# Preprocess and Save all testing data\n",
    "    _preprocess_and_save(normalize,\n",
    "                         one_hot_encode,\n",
    "                         np.array(test_features),\n",
    "                         np.array(test_labels),\n",
    "                         'preprocess_training.p')"
   ]
  },
  {
   "cell_type": "code",
   "execution_count": 59,
   "metadata": {},
   "outputs": [],
   "source": [
    "preprocess_and_save_data(cifar10_dataset_folder_path,normalize,one_hot_encode)"
   ]
  },
  {
   "cell_type": "code",
   "execution_count": 35,
   "metadata": {},
   "outputs": [],
   "source": [
    "def batch_features_labels(features, labels, batch_size):\n",
    "    \"\"\"\n",
    "     Split features and labels into batches\n",
    "    \"\"\"\n",
    "    for start in range(0, len(features), batch_size):\n",
    "        end = min(start + batch_size, len(features))\n",
    "        yield features[start:end], labels[start:end]"
   ]
  },
  {
   "cell_type": "code",
   "execution_count": 36,
   "metadata": {},
   "outputs": [],
   "source": [
    "def load_preprocess_training_batch(batch_id, batch_size):\n",
    "    \"\"\"\n",
    "     Load the Preprocessed Training data and return them in batches of <batch_size\n",
    "    \"\"\"\n",
    "    filename = 'preprocess_batch_' + str(batch_id) + '.p'\n",
    "    features, labels = pickle.load(open(filename, mode='rb'))\n",
    "# Return the training data in batches of size <batch_size> or less\n",
    "    return batch_features_labels(features, labels, batch_size)"
   ]
  },
  {
   "cell_type": "code",
   "execution_count": 51,
   "metadata": {},
   "outputs": [],
   "source": [
    "def display_image_predictions(features, labels, predictions):\n",
    "    n_classes = 10\n",
    "    label_names = _load_label_names()\n",
    "    label_binarizer = LabelBinarizer()\n",
    "    label_binarizer.fit(range(n_classes))\n",
    "    label_ids = label_binarizer.inverse_transform(np.array(labels))\n",
    "    fig, axies = plt.subplots(nrows=4, ncols=2)\n",
    "    fig.tight_layout()\n",
    "    fig.suptitle('Softmax Predictions', fontsize=20, y=1.1)\n",
    "    n_predictions = 3\n",
    "    margin = 0.05\n",
    "    ind = np.arange(n_predictions)\n",
    "    width = (1. - 2. * margin) / n_predictions\n",
    "    for image_i, (feature, label_id, pred_indicies, pred_values) in enumerate(zip(features,\n",
    "                                                                                 label_ids,\n",
    "                                                                                 predictions.indices,\n",
    "                                                                                 predictions.values)):\n",
    "        \n",
    "        pred_names = [label_names[pred_i] for pred_i in pred_indicies]\n",
    "        correct_name = label_names[label_id]\n",
    "        axies[image_i][0].imshow(feature*255)\n",
    "        axies[image_i][0].set_title(correct_name)\n",
    "        axies[image_i][0].set_axis_off()\n",
    "        axies[image_i][1].barh(ind + margin, pred_values[::-1], width)\n",
    "        axies[image_i][1].set_yticks(ind + margin)\n",
    "        axies[image_i][1].set_yticklabels(pred_names[::-1])\n",
    "        axies[image_i][1].set_xticks([0, 0.5, 1.0])"
   ]
  },
  {
   "cell_type": "code",
   "execution_count": 39,
   "metadata": {},
   "outputs": [
    {
     "name": "stdout",
     "output_type": "stream",
     "text": [
      "\n",
      "Stats of batch 3:\n",
      "Samples: 10000\n",
      "Label Counts: {0: 994, 1: 1042, 2: 965, 3: 997, 4: 990, 5: 1029, 6: 978, 7: 1015, 8: 961, 9: 1029}\n",
      "First 20 Labels: [8, 5, 0, 6, 9, 2, 8, 3, 6, 2, 7, 4, 6, 9, 0, 0, 7, 3, 7, 2]\n",
      "Label Counts: [0][ LabelAIRPLANE]  := 994\n",
      "Label Counts: [1][ LabelAUTOMOBILE]  := 1042\n",
      "Label Counts: [2][ LabelBIRD]  := 965\n",
      "Label Counts: [3][ LabelCAT]  := 997\n",
      "Label Counts: [4][ LabelDEER]  := 990\n",
      "Label Counts: [5][ LabelDOG]  := 1029\n",
      "Label Counts: [6][ LabelFROG]  := 978\n",
      "Label Counts: [7][ LabelHORSE]  := 1015\n",
      "Label Counts: [8][ LabelSHIP]  := 961\n",
      "Label Counts: [9][ LabelTRUCK]  := 1029\n",
      "\n",
      "Example of Image 5:\n",
      "Image - Min Value: 9 Max Value: 255\n",
      "Image - Shape: (32, 32, 3)\n",
      "Label - Label Id: 2 Name: bird\n"
     ]
    },
    {
     "data": {
      "image/png": "[encoded data removed]",
      "text/plain": [
       "<Figure size 432x288 with 1 Axes>"
      ]
     },
     "metadata": {
      "image/png": {
       "height": 250,
       "width": 253
      }
     },
     "output_type": "display_data"
    }
   ],
   "source": [
    "%matplotlib inline\n",
    "%config InlineBackend.figure_format = 'retina'\n",
    "import numpy as np\n",
    "# Explore the dataset\n",
    "batch_id = 3\n",
    "sample_id = 5\n",
    "display_stats(cifar10_dataset_folder_path, batch_id, sample_id)"
   ]
  },
  {
   "cell_type": "code",
   "execution_count": 40,
   "metadata": {},
   "outputs": [
    {
     "name": "stdout",
     "output_type": "stream",
     "text": [
      "\n",
      "Stats of batch 5:\n",
      "Samples: 10000\n",
      "Label Counts: {0: 1014, 1: 1014, 2: 952, 3: 1016, 4: 997, 5: 1025, 6: 980, 7: 977, 8: 1003, 9: 1022}\n",
      "First 20 Labels: [1, 8, 5, 1, 5, 7, 4, 3, 8, 2, 7, 2, 0, 1, 5, 9, 6, 2, 0, 8]\n",
      "Label Counts: [0][ LabelAIRPLANE]  := 1014\n",
      "Label Counts: [1][ LabelAUTOMOBILE]  := 1014\n",
      "Label Counts: [2][ LabelBIRD]  := 952\n",
      "Label Counts: [3][ LabelCAT]  := 1016\n",
      "Label Counts: [4][ LabelDEER]  := 997\n",
      "Label Counts: [5][ LabelDOG]  := 1025\n",
      "Label Counts: [6][ LabelFROG]  := 980\n",
      "Label Counts: [7][ LabelHORSE]  := 977\n",
      "Label Counts: [8][ LabelSHIP]  := 1003\n",
      "Label Counts: [9][ LabelTRUCK]  := 1022\n",
      "\n",
      "Example of Image 5:\n",
      "Image - Min Value: 1 Max Value: 255\n",
      "Image - Shape: (32, 32, 3)\n",
      "Label - Label Id: 7 Name: horse\n"
     ]
    },
    {
     "data": {
      "image/png": "[encoded data removed]",
      "text/plain": [
       "<Figure size 432x288 with 1 Axes>"
      ]
     },
     "metadata": {
      "image/png": {
       "height": 250,
       "width": 253
      }
     },
     "output_type": "display_data"
    }
   ],
   "source": [
    "# Explore the dataset\n",
    "batch_id = 5\n",
    "sample_id = 5\n",
    "display_stats(cifar10_dataset_folder_path, batch_id, sample_id)"
   ]
  },
  {
   "cell_type": "markdown",
   "metadata": {},
   "source": [
    "#### checkpoint"
   ]
  },
  {
   "cell_type": "code",
   "execution_count": 60,
   "metadata": {},
   "outputs": [
    {
     "ename": "FileNotFoundError",
     "evalue": "[Errno 2] No such file or directory: 'preprocess_validataion.p'",
     "output_type": "error",
     "traceback": [
      "\u001b[1;31m---------------------------------------------------------------------------\u001b[0m",
      "\u001b[1;31mFileNotFoundError\u001b[0m                         Traceback (most recent call last)",
      "\u001b[1;32m<ipython-input-60-566316a42fb9>\u001b[0m in \u001b[0;36m<module>\u001b[1;34m()\u001b[0m\n\u001b[1;32m----> 1\u001b[1;33m \u001b[0mvalid_features\u001b[0m\u001b[1;33m,\u001b[0m\u001b[0mvalid_labels\u001b[0m\u001b[1;33m=\u001b[0m \u001b[0mpickle\u001b[0m\u001b[1;33m.\u001b[0m\u001b[0mload\u001b[0m\u001b[1;33m(\u001b[0m\u001b[0mopen\u001b[0m\u001b[1;33m(\u001b[0m\u001b[1;34m'preprocess_validataion.p'\u001b[0m\u001b[1;33m,\u001b[0m\u001b[0mmode\u001b[0m\u001b[1;33m=\u001b[0m\u001b[1;34m'rb'\u001b[0m\u001b[1;33m)\u001b[0m\u001b[1;33m)\u001b[0m\u001b[1;33m\u001b[0m\u001b[0m\n\u001b[0m",
      "\u001b[1;31mFileNotFoundError\u001b[0m: [Errno 2] No such file or directory: 'preprocess_validataion.p'"
     ]
    }
   ],
   "source": [
    "valid_features,valid_labels= pickle.load(open('preprocess_validataion.p',mode='rb'))"
   ]
  },
  {
   "cell_type": "code",
   "execution_count": 61,
   "metadata": {},
   "outputs": [],
   "source": [
    "valid_features, valid_labels = pickle.load(open('preprocess_validation.p', mode='rb'))"
   ]
  },
  {
   "cell_type": "code",
   "execution_count": 62,
   "metadata": {},
   "outputs": [],
   "source": [
    "# First reset the graph\n",
    "tf.reset_default_graph()"
   ]
  },
  {
   "cell_type": "code",
   "execution_count": 63,
   "metadata": {},
   "outputs": [],
   "source": [
    "# tf Graph input\n",
    "x = tf.placeholder(tf.float32,shape= (None, 32,32,3),name='inputx') # 32x32 pixel, 3=RGB\n",
    "y = tf.placeholder(tf.float32,shape=(None,10), name='outputy')\n",
    "keep_prob = tf.placeholder(tf.float32,name='keep_prob')"
   ]
  },
  {
   "cell_type": "code",
   "execution_count": 64,
   "metadata": {},
   "outputs": [],
   "source": [
    "# create Convolutional Model\n",
    "# Note : the entire model consists of 14 layers in total. The technique to layer to build it as:\n",
    "def conv_net(x, keep_prob):\n",
    "    conv1_filter = tf.Variable(tf.truncated_normal(shape=[3, 3, 3, 64], mean=0, stddev=0.08))\n",
    "    # convolution with 64 different filters in size 3x3\n",
    "    conv2_filter = tf.Variable(tf.truncated_normal(shape=[3, 3, 64, 128], mean=0, stddev=0.08))\n",
    "     # convolution with 128 different filters in size 3x3\n",
    "    conv3_filter = tf.Variable(tf.truncated_normal(shape=[5, 5, 128, 256], mean=0, stddev=0.08))\n",
    "     # convolution with 256 different filters in size 3x3\n",
    "    conv4_filter = tf.Variable(tf.truncated_normal(shape=[5, 5, 256, 512], mean=0, stddev=0.08))\n",
    "     # convolution with 512 different filters in size 3x3\n",
    "    #Signature: tf.truncated_normal(shape, mean=0.0, stddev=1.0, dtype=tf.float32,\n",
    "                                                                   #seed=None, name=None)\n",
    "\n",
    "#Outputs random values from a truncated normal distribution.\n",
    "    # 1, 2\n",
    "    conv1 = tf.nn.conv2d(x, conv1_filter, strides=[1,1,1,1], padding='SAME')\n",
    "     # ReLU activation function\n",
    "    conv1 = tf.nn.relu(conv1)\n",
    "     # max Pooling by 2\n",
    "    conv1_pool = tf.nn.max_pool(conv1, ksize=[1,2,2,1], strides=[1,2,2,1], padding='SAME')\n",
    "   # batch normalization\n",
    "    conv1_bn = tf.layers.batch_normalization(conv1_pool)\n",
    "\n",
    "    # 3, 4\n",
    "    conv2 = tf.nn.conv2d(conv1_bn, conv2_filter, strides=[1,1,1,1], padding='SAME')\n",
    "    # ReLU activation function\n",
    "    conv2 = tf.nn.relu(conv2)\n",
    "    # max Pooling by 2\n",
    "    conv2_pool = tf.nn.max_pool(conv2, ksize=[1,2,2,1], strides=[1,2,2,1], padding='SAME') \n",
    "     \n",
    "    conv2_bn = tf.layers.batch_normalization(conv2_pool)\n",
    "  \n",
    "    # 5, 6\n",
    "    conv3 = tf.nn.conv2d(conv2_bn, conv3_filter, strides=[1,1,1,1], padding='SAME')\n",
    "     # ReLU activation function\n",
    "    conv3 = tf.nn.relu(conv3)\n",
    "      # max Pooling by 2\n",
    "    conv3_pool = tf.nn.max_pool(conv3, ksize=[1,2,2,1], strides=[1,2,2,1], padding='SAME') \n",
    "   \n",
    "    conv3_bn = tf.layers.batch_normalization(conv3_pool)\n",
    "    \n",
    "    # 7, 8\n",
    "    conv4 = tf.nn.conv2d(conv3_bn, conv4_filter, strides=[1,1,1,1], padding='SAME')\n",
    "     # ReLU activation function\n",
    "    conv4 = tf.nn.relu(conv4)\n",
    "     # max Pooling by 2\n",
    "    conv4_pool = tf.nn.max_pool(conv4, ksize=[1,2,2,1], strides=[1,2,2,1], padding='SAME')\n",
    "    \n",
    "    conv4_bn = tf.layers.batch_normalization(conv4_pool) # batch normalization\n",
    "    \n",
    "    # 9\n",
    "    #Flattening the 3D output of the last convolution operations.\n",
    "    flat = tf.contrib.layers.flatten(conv4_bn)  \n",
    "\n",
    "    # 10\n",
    "    \n",
    "    full1 = tf.contrib.layers.fully_connected(inputs=flat, num_outputs=128, activation_fn=tf.nn.relu)\n",
    "    # Fully Connected layer with 128 units\n",
    "    full1 = tf.nn.dropout(full1, keep_prob)    # dropout\n",
    "    # Batch Normalization\n",
    "    full1 = tf.layers.batch_normalization(full1)\n",
    "    \n",
    "    # 11\n",
    "    full2 = tf.contrib.layers.fully_connected(inputs=full1, num_outputs=256, activation_fn=tf.nn.relu)\n",
    "    # Fully Connected layer with 256 units\n",
    "    full2 = tf.nn.dropout(full2, keep_prob)  # dropout\n",
    "    # Batch Normalization\n",
    "    full2 = tf.layers.batch_normalization(full2)\n",
    "    \n",
    "    # 12\n",
    "    full3 = tf.contrib.layers.fully_connected(inputs=full2, num_outputs=512, activation_fn=tf.nn.relu)\n",
    "    # Fully Connected layer with 512 units\n",
    "    full3 = tf.nn.dropout(full3, keep_prob)  # dropout\n",
    "    # Batch Normalization\n",
    "    full3 = tf.layers.batch_normalization(full3)    \n",
    "    \n",
    "    # 13\n",
    "    full4 = tf.contrib.layers.fully_connected(inputs=full3, num_outputs=1024, activation_fn=tf.nn.relu)\n",
    "    # Fully Connected layer with 1024 units\n",
    "    full4 = tf.nn.dropout(full4, keep_prob) # dropout\n",
    "    # Batch Normalization\n",
    "    full4 = tf.layers.batch_normalization(full4)        \n",
    "    \n",
    "    # 14\n",
    "    out = tf.contrib.layers.fully_connected(inputs=full3, num_outputs=10, activation_fn=None)\n",
    "    return out\n",
    "\n"
   ]
  },
  {
   "cell_type": "markdown",
   "metadata": {},
   "source": [
    "### HyperParameters:"
   ]
  },
  {
   "cell_type": "code",
   "execution_count": 65,
   "metadata": {},
   "outputs": [],
   "source": [
    "epochs = 10   # no. of iteration until the network stops learning or start overfitting\n",
    "batch_size = 128    # highest no. that machine has memory has.\n",
    "keep_probability = 0.7  # probability of keeping a node using dropout\n",
    "learning_rate = 0.001  # it should be very low. Number how fast the model learns\n"
   ]
  },
  {
   "cell_type": "code",
   "execution_count": 66,
   "metadata": {},
   "outputs": [
    {
     "name": "stdout",
     "output_type": "stream",
     "text": [
      "WARNING:tensorflow:From <ipython-input-66-057d8c555267>:6: softmax_cross_entropy_with_logits (from tensorflow.python.ops.nn_ops) is deprecated and will be removed in a future version.\n",
      "Instructions for updating:\n",
      "\n",
      "Future major versions of TensorFlow will allow gradients to flow\n",
      "into the labels input on backprop by default.\n",
      "\n",
      "See `tf.nn.softmax_cross_entropy_with_logits_v2`.\n",
      "\n"
     ]
    }
   ],
   "source": [
    "## The cost function and optimizer:\n",
    "logits = conv_net(x, keep_prob)\n",
    "model = tf.identity(logits, name='logits')\n",
    "\n",
    "# Loss and Optimizer\n",
    "cost = tf.reduce_mean(tf.nn.softmax_cross_entropy_with_logits(logits=logits, labels=y))\n",
    "# cost=> return reduce the tensor\n",
    "optimizer = tf.train.AdamOptimizer(learning_rate=learning_rate).minimize(cost)\n",
    "# optimizer=> an operation that applies the specified gradients.\n",
    "# Accuracy\n",
    "correct_pred = tf.equal(tf.argmax(logits, 1), tf.argmax(y, 1))\n",
    "accuracy = tf.reduce_mean(tf.cast(correct_pred, tf.float32), name='accuracy')#return reducedtensor"
   ]
  },
  {
   "cell_type": "markdown",
   "metadata": {},
   "source": [
    "#### Train the Neural Network"
   ]
  },
  {
   "cell_type": "code",
   "execution_count": 67,
   "metadata": {},
   "outputs": [],
   "source": [
    "# Single Optimization:\n",
    "def train_neural_network(session, optimizer, keep_probability, feature_batch, label_batch):\n",
    "    session.run(optimizer, \n",
    "                feed_dict={\n",
    "                    x: feature_batch,\n",
    "                    y: label_batch,\n",
    "                    keep_prob: keep_probability\n",
    "                })"
   ]
  },
  {
   "cell_type": "code",
   "execution_count": 69,
   "metadata": {},
   "outputs": [],
   "source": [
    "# showing Stats\n",
    "def print_stats(session, feature_batch, label_batch, cost, accuracy):\n",
    "    loss = sess.run(cost, \n",
    "                    feed_dict={\n",
    "                        x: feature_batch,\n",
    "                        y: label_batch,\n",
    "                        keep_prob: 1.\n",
    "                    })\n",
    "    valid_acc = sess.run(accuracy, \n",
    "                         feed_dict={\n",
    "                             x: valid_features,\n",
    "                             y: valid_labels,\n",
    "                             keep_prob: 1.\n",
    "                         })\n",
    "    \n",
    "    print('Loss: {:>10.4f} Validation Accuracy: {:.6f}'.format(loss, valid_acc))"
   ]
  },
  {
   "cell_type": "code",
   "execution_count": null,
   "metadata": {},
   "outputs": [],
   "source": []
  },
  {
   "cell_type": "code",
   "execution_count": 70,
   "metadata": {},
   "outputs": [
    {
     "name": "stdout",
     "output_type": "stream",
     "text": [
      "Epoch  1, CIFAR-10 Batch 1:  Loss:     2.2250 Validation Accuracy: 0.196600\n",
      "Epoch  1, CIFAR-10 Batch 2:  Loss:     1.8468 Validation Accuracy: 0.250000\n",
      "Epoch  1, CIFAR-10 Batch 3:  Loss:     1.6397 Validation Accuracy: 0.279200\n",
      "Epoch  1, CIFAR-10 Batch 4:  Loss:     1.6618 Validation Accuracy: 0.340800\n",
      "Epoch  1, CIFAR-10 Batch 5:  Loss:     1.4772 Validation Accuracy: 0.392200\n",
      "Epoch  2, CIFAR-10 Batch 1:  Loss:     1.5134 Validation Accuracy: 0.456000\n",
      "Epoch  2, CIFAR-10 Batch 2:  Loss:     1.3460 Validation Accuracy: 0.429200\n",
      "Epoch  2, CIFAR-10 Batch 3:  Loss:     1.1164 Validation Accuracy: 0.507800\n",
      "Epoch  2, CIFAR-10 Batch 4:  Loss:     1.0843 Validation Accuracy: 0.576400\n",
      "Epoch  2, CIFAR-10 Batch 5:  Loss:     0.7971 Validation Accuracy: 0.606200\n",
      "Epoch  3, CIFAR-10 Batch 1:  Loss:     0.9008 Validation Accuracy: 0.612600\n",
      "Epoch  3, CIFAR-10 Batch 2:  Loss:     0.6410 Validation Accuracy: 0.639800\n",
      "Epoch  3, CIFAR-10 Batch 3:  Loss:     0.4584 Validation Accuracy: 0.637600\n",
      "Epoch  3, CIFAR-10 Batch 4:  Loss:     0.5232 Validation Accuracy: 0.677000\n",
      "Epoch  3, CIFAR-10 Batch 5:  Loss:     0.4769 Validation Accuracy: 0.682200\n",
      "Epoch  4, CIFAR-10 Batch 1:  Loss:     0.5490 Validation Accuracy: 0.664400\n",
      "Epoch  4, CIFAR-10 Batch 2:  Loss:     0.3519 Validation Accuracy: 0.677000\n",
      "Epoch  4, CIFAR-10 Batch 3:  Loss:     0.2777 Validation Accuracy: 0.695800\n",
      "Epoch  4, CIFAR-10 Batch 4:  Loss:     0.2550 Validation Accuracy: 0.676800\n",
      "Epoch  4, CIFAR-10 Batch 5:  Loss:     0.2472 Validation Accuracy: 0.702000\n",
      "Epoch  5, CIFAR-10 Batch 1:  Loss:     0.2997 Validation Accuracy: 0.672400\n",
      "Epoch  5, CIFAR-10 Batch 2:  Loss:     0.2252 Validation Accuracy: 0.719000\n",
      "Epoch  5, CIFAR-10 Batch 3:  Loss:     0.0959 Validation Accuracy: 0.710600\n",
      "Epoch  5, CIFAR-10 Batch 4:  Loss:     0.1278 Validation Accuracy: 0.737800\n",
      "Epoch  5, CIFAR-10 Batch 5:  Loss:     0.1542 Validation Accuracy: 0.676800\n",
      "Epoch  6, CIFAR-10 Batch 1:  Loss:     0.1588 Validation Accuracy: 0.713000\n",
      "Epoch  6, CIFAR-10 Batch 2:  Loss:     0.1166 Validation Accuracy: 0.735000\n",
      "Epoch  6, CIFAR-10 Batch 3:  Loss:     0.0663 Validation Accuracy: 0.727800\n",
      "Epoch  6, CIFAR-10 Batch 4:  Loss:     0.0550 Validation Accuracy: 0.735400\n",
      "Epoch  6, CIFAR-10 Batch 5:  Loss:     0.0521 Validation Accuracy: 0.722400\n",
      "Epoch  7, CIFAR-10 Batch 1:  Loss:     0.0519 Validation Accuracy: 0.731400\n",
      "Epoch  7, CIFAR-10 Batch 2:  Loss:     0.0520 Validation Accuracy: 0.743000\n",
      "Epoch  7, CIFAR-10 Batch 3:  Loss:     0.0311 Validation Accuracy: 0.720600\n",
      "Epoch  7, CIFAR-10 Batch 4:  Loss:     0.0621 Validation Accuracy: 0.728400\n",
      "Epoch  7, CIFAR-10 Batch 5:  Loss:     0.0273 Validation Accuracy: 0.736000\n",
      "Epoch  8, CIFAR-10 Batch 1:  Loss:     0.0265 Validation Accuracy: 0.728600\n",
      "Epoch  8, CIFAR-10 Batch 2:  Loss:     0.0228 Validation Accuracy: 0.731600\n",
      "Epoch  8, CIFAR-10 Batch 3:  Loss:     0.0161 Validation Accuracy: 0.729200\n",
      "Epoch  8, CIFAR-10 Batch 4:  Loss:     0.0319 Validation Accuracy: 0.729600\n",
      "Epoch  8, CIFAR-10 Batch 5:  Loss:     0.0242 Validation Accuracy: 0.726800\n",
      "Epoch  9, CIFAR-10 Batch 1:  Loss:     0.0240 Validation Accuracy: 0.725600\n",
      "Epoch  9, CIFAR-10 Batch 2:  Loss:     0.0144 Validation Accuracy: 0.734600\n",
      "Epoch  9, CIFAR-10 Batch 3:  Loss:     0.0388 Validation Accuracy: 0.729400\n",
      "Epoch  9, CIFAR-10 Batch 4:  Loss:     0.0205 Validation Accuracy: 0.723800\n",
      "Epoch  9, CIFAR-10 Batch 5:  Loss:     0.0073 Validation Accuracy: 0.738600\n",
      "Epoch 10, CIFAR-10 Batch 1:  Loss:     0.0076 Validation Accuracy: 0.737200\n",
      "Epoch 10, CIFAR-10 Batch 2:  Loss:     0.0110 Validation Accuracy: 0.737200\n",
      "Epoch 10, CIFAR-10 Batch 3:  Loss:     0.0121 Validation Accuracy: 0.726200\n",
      "Epoch 10, CIFAR-10 Batch 4:  Loss:     0.0152 Validation Accuracy: 0.745600\n",
      "Epoch 10, CIFAR-10 Batch 5:  Loss:     0.0139 Validation Accuracy: 0.731400\n"
     ]
    }
   ],
   "source": [
    "save_model_path = './image_classification'\n",
    "with tf.Session() as sess:\n",
    "    # Initializing the variables\n",
    "    sess.run(tf.global_variables_initializer())\n",
    "    \n",
    "    # Training cycle\n",
    "    for epoch in range(epochs):\n",
    "        # Loop over all batches\n",
    "        n_batches = 5\n",
    "        for batch_i in range(1, n_batches + 1):\n",
    "            for batch_features, batch_labels in load_preprocess_training_batch(batch_i, batch_size):\n",
    "                train_neural_network(sess, optimizer, keep_probability, batch_features, batch_labels)\n",
    "                \n",
    "            print('Epoch {:>2}, CIFAR-10 Batch {}:  '.format(epoch + 1, batch_i), end='')\n",
    "            print_stats(sess, batch_features, batch_labels, cost, accuracy)\n",
    "    saver = tf.train.Saver()\n",
    "    save_path = saver.save(sess, save_model_path)"
   ]
  },
  {
   "cell_type": "markdown",
   "metadata": {},
   "source": [
    "checkPoint: The model has been saved to disk."
   ]
  },
  {
   "cell_type": "code",
   "execution_count": null,
   "metadata": {},
   "outputs": [],
   "source": []
  }
 ],
 "metadata": {
  "kernelspec": {
   "display_name": "Python 3",
   "language": "python",
   "name": "python3"
  },
  "language_info": {
   "codemirror_mode": {
    "name": "ipython",
    "version": 3
   },
   "file_extension": ".py",
   "mimetype": "text/x-python",
   "name": "python",
   "nbconvert_exporter": "python",
   "pygments_lexer": "ipython3",
   "version": "3.6.5"
  }
 },
 "nbformat": 4,
 "nbformat_minor": 2
}
